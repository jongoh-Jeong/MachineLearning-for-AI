{
  "nbformat": 4,
  "nbformat_minor": 0,
  "metadata": {
    "colab": {
      "provenance": [],
      "collapsed_sections": [],
      "mount_file_id": "1pLyk3vpX11to2GG3rJ7fpxkfQX_Z-7w6",
      "authorship_tag": "ABX9TyN5IrCHcSThTNnBjxk3TYUp",
      "include_colab_link": true
    },
    "kernelspec": {
      "name": "python3",
      "display_name": "Python 3"
    },
    "language_info": {
      "name": "python"
    }
  },
  "cells": [
    {
      "cell_type": "markdown",
      "metadata": {
        "id": "view-in-github",
        "colab_type": "text"
      },
      "source": [
        "<a href=\"https://colab.research.google.com/github/jongoh-Jeong/MachineLearning-for-AI/blob/main/3%EC%A3%BC%EC%B0%A8.ipynb\" target=\"_parent\"><img src=\"https://colab.research.google.com/assets/colab-badge.svg\" alt=\"Open In Colab\"/></a>"
      ]
    },
    {
      "cell_type": "code",
      "execution_count": null,
      "metadata": {
        "colab": {
          "base_uri": "https://localhost:8080/"
        },
        "id": "5IzKLBfxGxH1",
        "outputId": "d331832b-e52b-44fd-9133-f83cc29804ed"
      },
      "outputs": [
        {
          "output_type": "stream",
          "name": "stdout",
          "text": [
            "Drive already mounted at /content/drive; to attempt to forcibly remount, call drive.mount(\"/content/drive\", force_remount=True).\n"
          ]
        }
      ],
      "source": [
        "from google.colab import drive\n",
        "drive.mount('/content/drive')"
      ]
    },
    {
      "cell_type": "code",
      "source": [
        "import os\n",
        "import sys\n",
        "\n",
        "os.listdir()\n"
      ],
      "metadata": {
        "colab": {
          "base_uri": "https://localhost:8080/"
        },
        "id": "9ut0B1L0J-8O",
        "outputId": "265ff663-dc23-4b0f-877f-d0db2c2937d6"
      },
      "execution_count": null,
      "outputs": [
        {
          "output_type": "execute_result",
          "data": {
            "text/plain": [
              "['.config', 'drive', 'sample_data']"
            ]
          },
          "metadata": {},
          "execution_count": 2
        }
      ]
    },
    {
      "cell_type": "code",
      "source": [
        "cd drive/MyDrive/Hands-On-Data-Analysis-with-Pandas-2nd-edition/ch_02"
      ],
      "metadata": {
        "colab": {
          "base_uri": "https://localhost:8080/"
        },
        "id": "nAptP09SH_c5",
        "outputId": "d86ca667-ecbc-48a8-88dd-15f465fe6b41"
      },
      "execution_count": null,
      "outputs": [
        {
          "output_type": "stream",
          "name": "stdout",
          "text": [
            "/content/drive/MyDrive/Hands-On-Data-Analysis-with-Pandas-2nd-edition/ch_02\n"
          ]
        }
      ]
    },
    {
      "cell_type": "code",
      "source": [
        "import numpy as np\n",
        "\n",
        "data = np.genfromtxt(\n",
        "    'data/example_data.csv',delimiter=';',\n",
        "     names = True, dtype = None, encoding = 'UTF'\n",
        "     )\n",
        "\n",
        "data"
      ],
      "metadata": {
        "colab": {
          "base_uri": "https://localhost:8080/"
        },
        "id": "xjLs7cg7IOTE",
        "outputId": "cd077a5a-c418-45a5-8c88-8d4a8e1e2f25"
      },
      "execution_count": null,
      "outputs": [
        {
          "output_type": "execute_result",
          "data": {
            "text/plain": [
              "array([('2018-10-13 11:10:23.560', '262km NW of Ozernovskiy, Russia', 'mww', 6.7, 'green', 1),\n",
              "       ('2018-10-13 04:34:15.580', '25km E of Bitung, Indonesia', 'mww', 5.2, 'green', 0),\n",
              "       ('2018-10-13 00:13:46.220', '42km WNW of Sola, Vanuatu', 'mww', 5.7, 'green', 0),\n",
              "       ('2018-10-12 21:09:49.240', '13km E of Nueva Concepcion, Guatemala', 'mww', 5.7, 'green', 0),\n",
              "       ('2018-10-12 02:52:03.620', '128km SE of Kimbe, Papua New Guinea', 'mww', 5.6, 'green', 1)],\n",
              "      dtype=[('time', '<U23'), ('place', '<U37'), ('magType', '<U3'), ('mag', '<f8'), ('alert', '<U5'), ('tsunami', '<i8')])"
            ]
          },
          "metadata": {},
          "execution_count": 15
        }
      ]
    },
    {
      "cell_type": "code",
      "source": [
        "data.shape"
      ],
      "metadata": {
        "colab": {
          "base_uri": "https://localhost:8080/"
        },
        "id": "cTyxN7sUI8Ih",
        "outputId": "8e6600db-8a34-43d1-b670-e2c06d802d88"
      },
      "execution_count": null,
      "outputs": [
        {
          "output_type": "execute_result",
          "data": {
            "text/plain": [
              "(5,)"
            ]
          },
          "metadata": {},
          "execution_count": 16
        }
      ]
    },
    {
      "cell_type": "code",
      "source": [
        "data.dtype"
      ],
      "metadata": {
        "colab": {
          "base_uri": "https://localhost:8080/"
        },
        "id": "sPO3nX-fLXbF",
        "outputId": "e0f8d13a-4c09-4878-e529-9eddc138b0cb"
      },
      "execution_count": null,
      "outputs": [
        {
          "output_type": "execute_result",
          "data": {
            "text/plain": [
              "dtype([('time', '<U23'), ('place', '<U37'), ('magType', '<U3'), ('mag', '<f8'), ('alert', '<U5'), ('tsunami', '<i8')])"
            ]
          },
          "metadata": {},
          "execution_count": 17
        }
      ]
    },
    {
      "cell_type": "code",
      "source": [
        "%%timeit\n",
        "max(row[3] for row in data)"
      ],
      "metadata": {
        "colab": {
          "base_uri": "https://localhost:8080/"
        },
        "id": "PUfLc4xQLpqw",
        "outputId": "d69d442f-9016-4d32-b84f-a01e4d6d542d"
      },
      "execution_count": null,
      "outputs": [
        {
          "output_type": "stream",
          "name": "stdout",
          "text": [
            "4.08 µs ± 72 ns per loop (mean ± std. dev. of 7 runs, 100000 loops each)\n"
          ]
        }
      ]
    },
    {
      "cell_type": "code",
      "source": [
        "array_dict = {\n",
        "    col : np.array([row[i] for row in data])\n",
        "    for i,col in enumerate(data.dtype.names)\n",
        "}\n",
        "\n",
        "array_dict"
      ],
      "metadata": {
        "colab": {
          "base_uri": "https://localhost:8080/"
        },
        "id": "JP2zBtToLaHY",
        "outputId": "8c4c877b-5783-4ad8-e592-a68af325bf7c"
      },
      "execution_count": null,
      "outputs": [
        {
          "output_type": "execute_result",
          "data": {
            "text/plain": [
              "{'time': array(['2018-10-13 11:10:23.560', '2018-10-13 04:34:15.580',\n",
              "        '2018-10-13 00:13:46.220', '2018-10-12 21:09:49.240',\n",
              "        '2018-10-12 02:52:03.620'], dtype='<U23'),\n",
              " 'place': array(['262km NW of Ozernovskiy, Russia', '25km E of Bitung, Indonesia',\n",
              "        '42km WNW of Sola, Vanuatu',\n",
              "        '13km E of Nueva Concepcion, Guatemala',\n",
              "        '128km SE of Kimbe, Papua New Guinea'], dtype='<U37'),\n",
              " 'magType': array(['mww', 'mww', 'mww', 'mww', 'mww'], dtype='<U3'),\n",
              " 'mag': array([6.7, 5.2, 5.7, 5.7, 5.6]),\n",
              " 'alert': array(['green', 'green', 'green', 'green', 'green'], dtype='<U5'),\n",
              " 'tsunami': array([1, 0, 0, 0, 1])}"
            ]
          },
          "metadata": {},
          "execution_count": 21
        }
      ]
    },
    {
      "cell_type": "code",
      "source": [
        "array_dict['mag']"
      ],
      "metadata": {
        "colab": {
          "base_uri": "https://localhost:8080/"
        },
        "id": "ueWTAWrNMsc8",
        "outputId": "2f6af8ac-40d4-47b4-891a-3d73c3944280"
      },
      "execution_count": null,
      "outputs": [
        {
          "output_type": "execute_result",
          "data": {
            "text/plain": [
              "array([6.7, 5.2, 5.7, 5.7, 5.6])"
            ]
          },
          "metadata": {},
          "execution_count": 23
        }
      ]
    },
    {
      "cell_type": "code",
      "source": [
        "array_dict['mag'].argmax()"
      ],
      "metadata": {
        "colab": {
          "base_uri": "https://localhost:8080/"
        },
        "id": "w185p1O4P7te",
        "outputId": "2e37b5a3-03d5-44f6-b76b-4a13cce50e5f"
      },
      "execution_count": null,
      "outputs": [
        {
          "output_type": "execute_result",
          "data": {
            "text/plain": [
              "0"
            ]
          },
          "metadata": {},
          "execution_count": 26
        }
      ]
    },
    {
      "cell_type": "code",
      "source": [
        "np.array([\n",
        "    value[array_dict['mag'].argmax()]\n",
        "    for key,value in array_dict.items()\n",
        "])"
      ],
      "metadata": {
        "colab": {
          "base_uri": "https://localhost:8080/"
        },
        "id": "2Id5-60mPjLg",
        "outputId": "57780ee0-17e3-41a9-fca5-d688309d98e0"
      },
      "execution_count": null,
      "outputs": [
        {
          "output_type": "execute_result",
          "data": {
            "text/plain": [
              "array(['2018-10-13 11:10:23.560', '262km NW of Ozernovskiy, Russia',\n",
              "       'mww', '6.7', 'green', '1'], dtype='<U32')"
            ]
          },
          "metadata": {},
          "execution_count": 28
        }
      ]
    },
    {
      "cell_type": "code",
      "source": [
        "import pandas as pd\n",
        "\n",
        "place = pd.Series(array_dict['place'],name = 'place')\n",
        "place"
      ],
      "metadata": {
        "colab": {
          "base_uri": "https://localhost:8080/"
        },
        "id": "Q0LqyO9TQSKd",
        "outputId": "2d0ba36f-c378-4532-b8ee-8920664b7e23"
      },
      "execution_count": null,
      "outputs": [
        {
          "output_type": "execute_result",
          "data": {
            "text/plain": [
              "0          262km NW of Ozernovskiy, Russia\n",
              "1              25km E of Bitung, Indonesia\n",
              "2                42km WNW of Sola, Vanuatu\n",
              "3    13km E of Nueva Concepcion, Guatemala\n",
              "4      128km SE of Kimbe, Papua New Guinea\n",
              "Name: place, dtype: object"
            ]
          },
          "metadata": {},
          "execution_count": 31
        }
      ]
    },
    {
      "cell_type": "code",
      "source": [
        "place_index = place.index\n",
        "place_index"
      ],
      "metadata": {
        "colab": {
          "base_uri": "https://localhost:8080/"
        },
        "id": "MF62ytOBQ2oA",
        "outputId": "74ffc2b1-08c8-4504-a445-9811bb89569d"
      },
      "execution_count": null,
      "outputs": [
        {
          "output_type": "execute_result",
          "data": {
            "text/plain": [
              "RangeIndex(start=0, stop=5, step=1)"
            ]
          },
          "metadata": {},
          "execution_count": 32
        }
      ]
    },
    {
      "cell_type": "code",
      "source": [
        "place_index.values"
      ],
      "metadata": {
        "colab": {
          "base_uri": "https://localhost:8080/"
        },
        "id": "4a2ttsZ1RR4W",
        "outputId": "9fa34405-2ecb-48fa-de29-3a0c8bc113e3"
      },
      "execution_count": null,
      "outputs": [
        {
          "output_type": "execute_result",
          "data": {
            "text/plain": [
              "array([0, 1, 2, 3, 4])"
            ]
          },
          "metadata": {},
          "execution_count": 34
        }
      ]
    },
    {
      "cell_type": "code",
      "source": [
        "pwd"
      ],
      "metadata": {
        "colab": {
          "base_uri": "https://localhost:8080/",
          "height": 35
        },
        "id": "DuvT2CEkSocV",
        "outputId": "ccfe789e-f903-4b5c-ee64-c84b94ca3f21"
      },
      "execution_count": null,
      "outputs": [
        {
          "output_type": "execute_result",
          "data": {
            "text/plain": [
              "'/content/drive/MyDrive/Hands-On-Data-Analysis-with-Pandas-2nd-edition/ch_02'"
            ],
            "application/vnd.google.colaboratory.intrinsic+json": {
              "type": "string"
            }
          },
          "metadata": {},
          "execution_count": 37
        }
      ]
    },
    {
      "cell_type": "code",
      "source": [
        "df = pd.read_csv('data/earthquakes.csv')"
      ],
      "metadata": {
        "id": "D8Ri5zrKRXVN"
      },
      "execution_count": null,
      "outputs": []
    },
    {
      "cell_type": "code",
      "source": [
        "df.describe()"
      ],
      "metadata": {
        "colab": {
          "base_uri": "https://localhost:8080/",
          "height": 364
        },
        "id": "HBxt99rrST2L",
        "outputId": "d21997f7-e9f8-40ec-d4d7-96056336ec44"
      },
      "execution_count": null,
      "outputs": [
        {
          "output_type": "execute_result",
          "data": {
            "text/plain": [
              "              cdi         dmin        felt          gap          mag  \\\n",
              "count  329.000000  6139.000000  329.000000  6164.000000  9331.000000   \n",
              "mean     2.754711     0.544925   12.310030   121.506588     1.497345   \n",
              "std      1.010637     2.214305   48.954944    72.962363     1.203347   \n",
              "min      0.000000     0.000648    0.000000    12.000000    -1.260000   \n",
              "25%      2.000000     0.020425    1.000000    66.142500     0.720000   \n",
              "50%      2.700000     0.059050    2.000000   105.000000     1.300000   \n",
              "75%      3.300000     0.177250    5.000000   159.000000     1.900000   \n",
              "max      8.400000    53.737000  580.000000   355.910000     7.500000   \n",
              "\n",
              "             mmi          nst          rms          sig          time  \\\n",
              "count  93.000000  5364.000000  9332.000000  9332.000000  9.332000e+03   \n",
              "mean    3.651398    19.053878     0.362122    56.899914  1.538284e+12   \n",
              "std     1.790523    15.492315     0.317784    91.872163  6.080306e+08   \n",
              "min     0.000000     0.000000     0.000000     0.000000  1.537229e+12   \n",
              "25%     2.680000     8.000000     0.119675     8.000000  1.537793e+12   \n",
              "50%     3.720000    15.000000     0.210000    26.000000  1.538245e+12   \n",
              "75%     4.570000    25.000000     0.590000    56.000000  1.538766e+12   \n",
              "max     9.120000   172.000000     1.910000  2015.000000  1.539475e+12   \n",
              "\n",
              "           tsunami           tz       updated  \n",
              "count  9332.000000  9331.000000  9.332000e+03  \n",
              "mean      0.006537  -451.990140  1.538537e+12  \n",
              "std       0.080589   231.752571  6.564135e+08  \n",
              "min       0.000000  -720.000000  1.537230e+12  \n",
              "25%       0.000000  -540.000000  1.537996e+12  \n",
              "50%       0.000000  -480.000000  1.538621e+12  \n",
              "75%       0.000000  -480.000000  1.539110e+12  \n",
              "max       1.000000   720.000000  1.539537e+12  "
            ],
            "text/html": [
              "\n",
              "  <div id=\"df-c2c9c4ed-3d37-41bd-afba-9fd4253e5306\">\n",
              "    <div class=\"colab-df-container\">\n",
              "      <div>\n",
              "<style scoped>\n",
              "    .dataframe tbody tr th:only-of-type {\n",
              "        vertical-align: middle;\n",
              "    }\n",
              "\n",
              "    .dataframe tbody tr th {\n",
              "        vertical-align: top;\n",
              "    }\n",
              "\n",
              "    .dataframe thead th {\n",
              "        text-align: right;\n",
              "    }\n",
              "</style>\n",
              "<table border=\"1\" class=\"dataframe\">\n",
              "  <thead>\n",
              "    <tr style=\"text-align: right;\">\n",
              "      <th></th>\n",
              "      <th>cdi</th>\n",
              "      <th>dmin</th>\n",
              "      <th>felt</th>\n",
              "      <th>gap</th>\n",
              "      <th>mag</th>\n",
              "      <th>mmi</th>\n",
              "      <th>nst</th>\n",
              "      <th>rms</th>\n",
              "      <th>sig</th>\n",
              "      <th>time</th>\n",
              "      <th>tsunami</th>\n",
              "      <th>tz</th>\n",
              "      <th>updated</th>\n",
              "    </tr>\n",
              "  </thead>\n",
              "  <tbody>\n",
              "    <tr>\n",
              "      <th>count</th>\n",
              "      <td>329.000000</td>\n",
              "      <td>6139.000000</td>\n",
              "      <td>329.000000</td>\n",
              "      <td>6164.000000</td>\n",
              "      <td>9331.000000</td>\n",
              "      <td>93.000000</td>\n",
              "      <td>5364.000000</td>\n",
              "      <td>9332.000000</td>\n",
              "      <td>9332.000000</td>\n",
              "      <td>9.332000e+03</td>\n",
              "      <td>9332.000000</td>\n",
              "      <td>9331.000000</td>\n",
              "      <td>9.332000e+03</td>\n",
              "    </tr>\n",
              "    <tr>\n",
              "      <th>mean</th>\n",
              "      <td>2.754711</td>\n",
              "      <td>0.544925</td>\n",
              "      <td>12.310030</td>\n",
              "      <td>121.506588</td>\n",
              "      <td>1.497345</td>\n",
              "      <td>3.651398</td>\n",
              "      <td>19.053878</td>\n",
              "      <td>0.362122</td>\n",
              "      <td>56.899914</td>\n",
              "      <td>1.538284e+12</td>\n",
              "      <td>0.006537</td>\n",
              "      <td>-451.990140</td>\n",
              "      <td>1.538537e+12</td>\n",
              "    </tr>\n",
              "    <tr>\n",
              "      <th>std</th>\n",
              "      <td>1.010637</td>\n",
              "      <td>2.214305</td>\n",
              "      <td>48.954944</td>\n",
              "      <td>72.962363</td>\n",
              "      <td>1.203347</td>\n",
              "      <td>1.790523</td>\n",
              "      <td>15.492315</td>\n",
              "      <td>0.317784</td>\n",
              "      <td>91.872163</td>\n",
              "      <td>6.080306e+08</td>\n",
              "      <td>0.080589</td>\n",
              "      <td>231.752571</td>\n",
              "      <td>6.564135e+08</td>\n",
              "    </tr>\n",
              "    <tr>\n",
              "      <th>min</th>\n",
              "      <td>0.000000</td>\n",
              "      <td>0.000648</td>\n",
              "      <td>0.000000</td>\n",
              "      <td>12.000000</td>\n",
              "      <td>-1.260000</td>\n",
              "      <td>0.000000</td>\n",
              "      <td>0.000000</td>\n",
              "      <td>0.000000</td>\n",
              "      <td>0.000000</td>\n",
              "      <td>1.537229e+12</td>\n",
              "      <td>0.000000</td>\n",
              "      <td>-720.000000</td>\n",
              "      <td>1.537230e+12</td>\n",
              "    </tr>\n",
              "    <tr>\n",
              "      <th>25%</th>\n",
              "      <td>2.000000</td>\n",
              "      <td>0.020425</td>\n",
              "      <td>1.000000</td>\n",
              "      <td>66.142500</td>\n",
              "      <td>0.720000</td>\n",
              "      <td>2.680000</td>\n",
              "      <td>8.000000</td>\n",
              "      <td>0.119675</td>\n",
              "      <td>8.000000</td>\n",
              "      <td>1.537793e+12</td>\n",
              "      <td>0.000000</td>\n",
              "      <td>-540.000000</td>\n",
              "      <td>1.537996e+12</td>\n",
              "    </tr>\n",
              "    <tr>\n",
              "      <th>50%</th>\n",
              "      <td>2.700000</td>\n",
              "      <td>0.059050</td>\n",
              "      <td>2.000000</td>\n",
              "      <td>105.000000</td>\n",
              "      <td>1.300000</td>\n",
              "      <td>3.720000</td>\n",
              "      <td>15.000000</td>\n",
              "      <td>0.210000</td>\n",
              "      <td>26.000000</td>\n",
              "      <td>1.538245e+12</td>\n",
              "      <td>0.000000</td>\n",
              "      <td>-480.000000</td>\n",
              "      <td>1.538621e+12</td>\n",
              "    </tr>\n",
              "    <tr>\n",
              "      <th>75%</th>\n",
              "      <td>3.300000</td>\n",
              "      <td>0.177250</td>\n",
              "      <td>5.000000</td>\n",
              "      <td>159.000000</td>\n",
              "      <td>1.900000</td>\n",
              "      <td>4.570000</td>\n",
              "      <td>25.000000</td>\n",
              "      <td>0.590000</td>\n",
              "      <td>56.000000</td>\n",
              "      <td>1.538766e+12</td>\n",
              "      <td>0.000000</td>\n",
              "      <td>-480.000000</td>\n",
              "      <td>1.539110e+12</td>\n",
              "    </tr>\n",
              "    <tr>\n",
              "      <th>max</th>\n",
              "      <td>8.400000</td>\n",
              "      <td>53.737000</td>\n",
              "      <td>580.000000</td>\n",
              "      <td>355.910000</td>\n",
              "      <td>7.500000</td>\n",
              "      <td>9.120000</td>\n",
              "      <td>172.000000</td>\n",
              "      <td>1.910000</td>\n",
              "      <td>2015.000000</td>\n",
              "      <td>1.539475e+12</td>\n",
              "      <td>1.000000</td>\n",
              "      <td>720.000000</td>\n",
              "      <td>1.539537e+12</td>\n",
              "    </tr>\n",
              "  </tbody>\n",
              "</table>\n",
              "</div>\n",
              "      <button class=\"colab-df-convert\" onclick=\"convertToInteractive('df-c2c9c4ed-3d37-41bd-afba-9fd4253e5306')\"\n",
              "              title=\"Convert this dataframe to an interactive table.\"\n",
              "              style=\"display:none;\">\n",
              "        \n",
              "  <svg xmlns=\"http://www.w3.org/2000/svg\" height=\"24px\"viewBox=\"0 0 24 24\"\n",
              "       width=\"24px\">\n",
              "    <path d=\"M0 0h24v24H0V0z\" fill=\"none\"/>\n",
              "    <path d=\"M18.56 5.44l.94 2.06.94-2.06 2.06-.94-2.06-.94-.94-2.06-.94 2.06-2.06.94zm-11 1L8.5 8.5l.94-2.06 2.06-.94-2.06-.94L8.5 2.5l-.94 2.06-2.06.94zm10 10l.94 2.06.94-2.06 2.06-.94-2.06-.94-.94-2.06-.94 2.06-2.06.94z\"/><path d=\"M17.41 7.96l-1.37-1.37c-.4-.4-.92-.59-1.43-.59-.52 0-1.04.2-1.43.59L10.3 9.45l-7.72 7.72c-.78.78-.78 2.05 0 2.83L4 21.41c.39.39.9.59 1.41.59.51 0 1.02-.2 1.41-.59l7.78-7.78 2.81-2.81c.8-.78.8-2.07 0-2.86zM5.41 20L4 18.59l7.72-7.72 1.47 1.35L5.41 20z\"/>\n",
              "  </svg>\n",
              "      </button>\n",
              "      \n",
              "  <style>\n",
              "    .colab-df-container {\n",
              "      display:flex;\n",
              "      flex-wrap:wrap;\n",
              "      gap: 12px;\n",
              "    }\n",
              "\n",
              "    .colab-df-convert {\n",
              "      background-color: #E8F0FE;\n",
              "      border: none;\n",
              "      border-radius: 50%;\n",
              "      cursor: pointer;\n",
              "      display: none;\n",
              "      fill: #1967D2;\n",
              "      height: 32px;\n",
              "      padding: 0 0 0 0;\n",
              "      width: 32px;\n",
              "    }\n",
              "\n",
              "    .colab-df-convert:hover {\n",
              "      background-color: #E2EBFA;\n",
              "      box-shadow: 0px 1px 2px rgba(60, 64, 67, 0.3), 0px 1px 3px 1px rgba(60, 64, 67, 0.15);\n",
              "      fill: #174EA6;\n",
              "    }\n",
              "\n",
              "    [theme=dark] .colab-df-convert {\n",
              "      background-color: #3B4455;\n",
              "      fill: #D2E3FC;\n",
              "    }\n",
              "\n",
              "    [theme=dark] .colab-df-convert:hover {\n",
              "      background-color: #434B5C;\n",
              "      box-shadow: 0px 1px 3px 1px rgba(0, 0, 0, 0.15);\n",
              "      filter: drop-shadow(0px 1px 2px rgba(0, 0, 0, 0.3));\n",
              "      fill: #FFFFFF;\n",
              "    }\n",
              "  </style>\n",
              "\n",
              "      <script>\n",
              "        const buttonEl =\n",
              "          document.querySelector('#df-c2c9c4ed-3d37-41bd-afba-9fd4253e5306 button.colab-df-convert');\n",
              "        buttonEl.style.display =\n",
              "          google.colab.kernel.accessAllowed ? 'block' : 'none';\n",
              "\n",
              "        async function convertToInteractive(key) {\n",
              "          const element = document.querySelector('#df-c2c9c4ed-3d37-41bd-afba-9fd4253e5306');\n",
              "          const dataTable =\n",
              "            await google.colab.kernel.invokeFunction('convertToInteractive',\n",
              "                                                     [key], {});\n",
              "          if (!dataTable) return;\n",
              "\n",
              "          const docLinkHtml = 'Like what you see? Visit the ' +\n",
              "            '<a target=\"_blank\" href=https://colab.research.google.com/notebooks/data_table.ipynb>data table notebook</a>'\n",
              "            + ' to learn more about interactive tables.';\n",
              "          element.innerHTML = '';\n",
              "          dataTable['output_type'] = 'display_data';\n",
              "          await google.colab.output.renderOutput(dataTable, element);\n",
              "          const docLink = document.createElement('div');\n",
              "          docLink.innerHTML = docLinkHtml;\n",
              "          element.appendChild(docLink);\n",
              "        }\n",
              "      </script>\n",
              "    </div>\n",
              "  </div>\n",
              "  "
            ]
          },
          "metadata": {},
          "execution_count": 42
        }
      ]
    },
    {
      "cell_type": "code",
      "source": [],
      "metadata": {
        "id": "zXslBVIhTDaA"
      },
      "execution_count": null,
      "outputs": []
    }
  ]
}